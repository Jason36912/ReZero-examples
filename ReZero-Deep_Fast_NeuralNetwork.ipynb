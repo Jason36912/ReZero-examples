{
 "cells": [
  {
   "cell_type": "markdown",
   "metadata": {},
   "source": [
    "# Training 10,000 layer ReZero neural network on CIFAR-10 data\n",
    "\n",
    "In this notebook we will see how the [ReZero](https://arxiv.org/abs/2003.04887) architecture addition enables training of very deep networks. In particular, we will load the CIFAR-10 dataset via `torchvision` and train a deep fully connected network with various architecture additions to fit the data. We will compare four different methods: A vanilla fully connected network, residual connections, LayerNorm, and ReZero. We use identical hyperparameters (except for weight initialization, see below) and ReLU activations for each case. The architectures are described in [Table 1](https://arxiv.org/abs/2003.04887).\n",
    "\n",
    "Running time of the notebook: 6 minutes on laptop with single RTX 2060 GPU (and several hours for training 10,000 fully connected network at the end).\n",
    "\n",
    "### Define the model\n",
    "\n",
    "We now define the `DeepNN` model and several functions that load and prepare the data. Finally, we arrive at the function `setup_and_train`, that defines, trains and evaluates the model, and takes the following parameters as input:\n",
    "\n",
    "`version` : Defines architecture: `'Vanilla'`, `'Residual'`, `'LayerNorm'`, or `'ReZero'`.\n",
    "\n",
    "`epochs` : Number of epochs to train\n",
    "\n",
    "`depth` : Depth of NN\n",
    "\n",
    "`width` : Width of NN\n",
    "\n",
    "`lr` : Learning rate"
   ]
  },
  {
   "cell_type": "code",
   "execution_count": 1,
   "metadata": {},
   "outputs": [
    {
     "data": {
      "text/plain": [
       "<torch._C.Generator at 0x7f78186c0a90>"
      ]
     },
     "execution_count": 1,
     "metadata": {},
     "output_type": "execute_result"
    }
   ],
   "source": [
    "######################################################################\n",
    "# Import and set manual seed\n",
    "\n",
    "import torch\n",
    "import torchvision\n",
    "import torchvision.transforms as transforms\n",
    "import torch.nn as nn\n",
    "import torch.nn.functional as F\n",
    "import torch.optim as optim\n",
    "import time\n",
    "import numpy as np\n",
    "import matplotlib.pyplot as plt\n",
    "\n",
    "torch.manual_seed(0)"
   ]
  },
  {
   "cell_type": "code",
   "execution_count": 2,
   "metadata": {},
   "outputs": [
    {
     "name": "stdout",
     "output_type": "stream",
     "text": [
      "Files already downloaded and verified\n"
     ]
    }
   ],
   "source": [
    "########################################################################\n",
    "# Download and define the training set.\n",
    "\n",
    "batchsize = 100\n",
    "transform = transforms.Compose([transforms.ToTensor(),\n",
    "                                transforms.Normalize((0.5, 0.5, 0.5), (0.5, 0.5, 0.5))])\n",
    "trainset = torchvision.datasets.CIFAR10(root='./data', train=True,\n",
    "                                        download=True, transform=transform)\n",
    "trainloader = torch.utils.data.DataLoader(trainset, batch_size=batchsize,\n",
    "                                          shuffle=True, num_workers=2)\n",
    "device = torch.device(\"cuda:0\" if torch.cuda.is_available() else \"cpu\")\n",
    "\n",
    "\n",
    "########################################################################\n",
    "#Define input-output Jacobian\n",
    "\n",
    "def get_jacobian(model, x):\n",
    "    nc = x.size()[0]\n",
    "    ny = x.size()[2]\n",
    "    nx = x.size()[1]\n",
    "    noutputs = 10\n",
    "    x = x.reshape(nc*nx*ny)\n",
    "    x = x.repeat(noutputs,1)\n",
    "    x.requires_grad_(True)\n",
    "    y = model(x.reshape(noutputs,nc,nx,ny))\n",
    "    y.backward(torch.eye(noutputs).to(device))\n",
    "    return x.grad.data\n",
    "\n",
    "\n",
    "########################################################################\n",
    "# Define fully connected network with ReLu activations and\n",
    "# architectures :'ReZero', 'LayerNorm', 'Residual', 'Vanilla'\n",
    "\n",
    "class DeepNN(nn.Module):\n",
    "    def __init__(self, lr, width, depth, version):\n",
    "        super(DeepNN, self).__init__()\n",
    "        self.linear_input = nn.Linear(3*32*32, width)\n",
    "        self.linear_layers = nn.ModuleList([nn.Linear(width, width) for i in range(depth)])\n",
    "        self.linear_output = nn.Linear(width, 10)\n",
    "        self.version = version\n",
    "        if self.version == 'ReZero':\n",
    "            self.resweight = nn.Parameter(torch.zeros(depth), requires_grad=True)\n",
    "        if self.version == 'LayerNorm':\n",
    "            self.ln = torch.nn.LayerNorm((width))\n",
    "        #Initialize:\n",
    "        torch.nn.init.kaiming_normal_(self.linear_input.weight, a=0, mode='fan_in', nonlinearity='relu')\n",
    "        for i in range(depth):\n",
    "            if self.version == 'ReZero':\n",
    "                torch.nn.init.xavier_normal_(self.linear_layers[i].weight, gain=torch.sqrt(torch.tensor(2.)))\n",
    "            elif self.version == 'Vanilla':\n",
    "                torch.nn.init.xavier_normal_(self.linear_layers[i].weight, gain=torch.sqrt(torch.tensor(2.)))\n",
    "            elif self.version == 'Residual':\n",
    "                # See https://arxiv.org/abs/1712.08969\n",
    "                torch.nn.init.xavier_normal_(self.linear_layers[i].weight, gain=torch.sqrt(torch.tensor(0.25)))\n",
    "            elif self.version == 'LayerNorm':\n",
    "                torch.nn.init.xavier_normal_(self.linear_layers[i].weight, gain=torch.sqrt(torch.tensor(2.)))\n",
    "    def forward(self, x):\n",
    "        x = x.view(-1, 3*32*32)\n",
    "        x = F.relu(self.linear_input(x))\n",
    "        for i, j in enumerate(self.linear_layers):\n",
    "            if self.version == 'ReZero':\n",
    "                x = x + self.resweight[i] *  torch.relu(self.linear_layers[i](x))\n",
    "            elif self.version == 'Vanilla':\n",
    "                x = F.relu(self.linear_layers[i](x))\n",
    "            elif self.version == 'Residual':\n",
    "                x = x + F.relu(self.linear_layers[i](x))\n",
    "            elif self.version == 'LayerNorm':\n",
    "                x = self.ln(F.relu(self.linear_layers[i](x)))\n",
    "        x = self.linear_output(x)\n",
    "        return x\n",
    "\n",
    "def setup_and_train(epochs, lr, width, depth, version, plt_jacobian = True):\n",
    "    ######################################################################\n",
    "    # Model setup\n",
    "    model = DeepNN(lr, width, depth, version)\n",
    "    model.to(device);\n",
    "    ######################################################################\n",
    "    # Define criterion and optimizer\n",
    "    criterion = torch.nn.CrossEntropyLoss()\n",
    "    optimizer = torch.optim.Adagrad(model.parameters(), lr = lr)\n",
    "    scheduler = torch.optim.lr_scheduler.StepLR(optimizer, 1.0, gamma=1.0)\n",
    "    \n",
    "    ######################################################################\n",
    "    # Train the model\n",
    "    model.train()\n",
    "    for epoch in range(epochs):  # loop over the dataset multiple times\n",
    "        epoch_start_time = time.time()\n",
    "        running_loss = 0.0\n",
    "        log_interval = 100\n",
    "        for batch, data in enumerate(trainloader, 0):\n",
    "            # get the inputs; data is a list of [inputs, labels]\n",
    "            inputs, labels = data[0].to(device), data[1].to(device)\n",
    "\n",
    "            # zero the parameter gradients\n",
    "            optimizer.zero_grad()\n",
    "\n",
    "            # forward + backward + optimize\n",
    "            outputs = model(inputs)\n",
    "            loss = criterion(outputs, labels)\n",
    "            loss.backward()\n",
    "            optimizer.step()\n",
    "            # print statistics\n",
    "            running_loss += loss.item()\n",
    "        cur_loss = running_loss / (batch+1)\n",
    "        print('| end of epoch {:3d} | time / epoch {:5.2f}s | loss {:5.2f}'.format\n",
    "              (epoch+1, (time.time() - epoch_start_time),cur_loss))\n",
    "        running_loss = 0.\n",
    "    \n",
    "    if plt_jacobian == True:\n",
    "        d_collected = list()\n",
    "        u_collected = list()\n",
    "        for i in range(100):\n",
    "            src = torch.randn(3, 32, 32).to(device)\n",
    "            J = get_jacobian(model,src)\n",
    "            v, d, u = torch.svd(J.to('cpu'))\n",
    "            d_collected.append(d.numpy().tolist())\n",
    "            u_collected.append(u.numpy().tolist())\n",
    "        d_ = np.asarray(d_collected).flatten()\n",
    "        print('-' * 55)\n",
    "        print('Mean sq singular value of io Jacobian:', \"%0.3f\" % np.mean(d_**2))\n",
    "        fig, ax = plt.subplots()\n",
    "        opacity=.7\n",
    "        plt.ylim((0,1))\n",
    "        plt.xlim((-7,4))\n",
    "        ax.hist(np.log(d_)/np.log(10), bins = 10, alpha = opacity, label = 'NN model: ' + version,\n",
    "                density = True)\n",
    "        ax.legend(loc='upper left')\n",
    "        ax.set_xlabel('log (io-Jacobian singular values)')\n",
    "        plt.show()\n"
   ]
  },
  {
   "cell_type": "markdown",
   "metadata": {},
   "source": [
    "### Vanilla network\n",
    "\n",
    "A vanilla network converges very slowly. There is a large spread in the singular value spectrum of the input-output Jacobian."
   ]
  },
  {
   "cell_type": "code",
   "execution_count": 3,
   "metadata": {},
   "outputs": [
    {
     "name": "stdout",
     "output_type": "stream",
     "text": [
      "| end of epoch   1 | time / epoch  7.81s | loss 54693.80\n",
      "| end of epoch   2 | time / epoch  7.75s | loss  2.34\n",
      "| end of epoch   3 | time / epoch  7.80s | loss  2.30\n",
      "| end of epoch   4 | time / epoch  7.72s | loss  2.30\n",
      "| end of epoch   5 | time / epoch  7.52s | loss  2.30\n",
      "| end of epoch   6 | time / epoch  7.74s | loss  2.28\n",
      "| end of epoch   7 | time / epoch  7.71s | loss  2.21\n",
      "| end of epoch   8 | time / epoch  7.65s | loss  2.08\n",
      "| end of epoch   9 | time / epoch  7.84s | loss  2.05\n",
      "| end of epoch  10 | time / epoch  7.67s | loss  2.02\n",
      "-------------------------------------------------------\n",
      "Mean sq singular value of io Jacobian: 0.829\n"
     ]
    },
    {
     "data": {
      "image/png": "[encoded data removed]",
      "text/plain": [
       "<Figure size 432x288 with 1 Axes>"
      ]
     },
     "metadata": {
      "needs_background": "light"
     },
     "output_type": "display_data"
    }
   ],
   "source": [
    "######################################################################\n",
    "# The model is set up with the hyperparameter below.\n",
    "\n",
    "version = 'Vanilla'  # Architecture\n",
    "epochs = 10           # Number of epochs\n",
    "depth = 64            # Number of layers\n",
    "width = 256           # Width\n",
    "lr = 0.01             # Learning rate for Adagrad optimizer\n",
    "\n",
    "setup_and_train(epochs, lr, width, depth, version, plt_jacobian = True)"
   ]
  },
  {
   "cell_type": "markdown",
   "metadata": {},
   "source": [
    "### Residual network\n",
    "\n",
    "A network with a residual connection converges a bit better. There still is a large spread in the singular value spectrum of the input-output Jacobian."
   ]
  },
  {
   "cell_type": "code",
   "execution_count": 4,
   "metadata": {},
   "outputs": [
    {
     "name": "stdout",
     "output_type": "stream",
     "text": [
      "| end of epoch   1 | time / epoch  8.61s | loss 131269.63\n",
      "| end of epoch   2 | time / epoch  9.10s | loss 26.92\n",
      "| end of epoch   3 | time / epoch  8.70s | loss 11.76\n",
      "| end of epoch   4 | time / epoch  8.47s | loss  4.55\n",
      "| end of epoch   5 | time / epoch  8.81s | loss  2.32\n",
      "| end of epoch   6 | time / epoch  9.79s | loss  2.10\n",
      "| end of epoch   7 | time / epoch  8.93s | loss  2.00\n",
      "| end of epoch   8 | time / epoch  8.42s | loss  1.95\n",
      "| end of epoch   9 | time / epoch  8.65s | loss  1.91\n",
      "| end of epoch  10 | time / epoch  8.41s | loss  1.87\n",
      "-------------------------------------------------------\n",
      "Mean sq singular value of io Jacobian: 225.593\n"
     ]
    },
    {
     "data": {
      "image/png": "[encoded data removed]",
      "text/plain": [
       "<Figure size 432x288 with 1 Axes>"
      ]
     },
     "metadata": {
      "needs_background": "light"
     },
     "output_type": "display_data"
    }
   ],
   "source": [
    "######################################################################\n",
    "# The model is set up with the hyperparameter below.\n",
    "\n",
    "version = 'Residual'  # Architecture\n",
    "epochs = 10           # Number of epochs\n",
    "depth = 64            # Number of layers\n",
    "width = 256           # Width\n",
    "lr = 0.01             # Learning rate for Adagrad optimizer\n",
    "\n",
    "setup_and_train(epochs, lr, width, depth, version, plt_jacobian = True)"
   ]
  },
  {
   "cell_type": "markdown",
   "metadata": {},
   "source": [
    "### LayerNorm network\n",
    "\n",
    "A LayerNorm network converges very slowly."
   ]
  },
  {
   "cell_type": "code",
   "execution_count": 5,
   "metadata": {},
   "outputs": [
    {
     "name": "stdout",
     "output_type": "stream",
     "text": [
      "| end of epoch   1 | time / epoch  9.97s | loss  2.23\n",
      "| end of epoch   2 | time / epoch 10.18s | loss  2.14\n",
      "| end of epoch   3 | time / epoch  9.88s | loss  2.14\n",
      "| end of epoch   4 | time / epoch 10.14s | loss  2.11\n",
      "| end of epoch   5 | time / epoch 10.80s | loss  2.09\n",
      "| end of epoch   6 | time / epoch 10.61s | loss  2.06\n",
      "| end of epoch   7 | time / epoch 10.23s | loss  2.04\n",
      "| end of epoch   8 | time / epoch 10.40s | loss  2.02\n",
      "| end of epoch   9 | time / epoch  9.90s | loss  2.01\n",
      "| end of epoch  10 | time / epoch 10.12s | loss  2.02\n",
      "-------------------------------------------------------\n",
      "Mean sq singular value of io Jacobian: 12.412\n"
     ]
    },
    {
     "data": {
      "image/png": "[encoded data removed]",
      "text/plain": [
       "<Figure size 432x288 with 1 Axes>"
      ]
     },
     "metadata": {
      "needs_background": "light"
     },
     "output_type": "display_data"
    }
   ],
   "source": [
    "######################################################################\n",
    "# The model is set up with the hyperparameter below.\n",
    "\n",
    "version = 'LayerNorm'  # Architecture\n",
    "epochs = 10           # Number of epochs\n",
    "depth = 64            # Number of layers\n",
    "width = 256           # Width\n",
    "lr = 0.01             # Learning rate for Adagrad optimizer\n",
    "\n",
    "setup_and_train(epochs, lr, width, depth, version, plt_jacobian = True)"
   ]
  },
  {
   "cell_type": "markdown",
   "metadata": {},
   "source": [
    "### ReZero network\n",
    "\n",
    "A deep neural network with ReZero connection quickly converges."
   ]
  },
  {
   "cell_type": "code",
   "execution_count": 6,
   "metadata": {},
   "outputs": [
    {
     "name": "stdout",
     "output_type": "stream",
     "text": [
      "| end of epoch   1 | time / epoch 11.33s | loss  1.68\n",
      "| end of epoch   2 | time / epoch 11.57s | loss  1.37\n",
      "| end of epoch   3 | time / epoch 10.92s | loss  1.24\n",
      "| end of epoch   4 | time / epoch 11.80s | loss  1.14\n",
      "| end of epoch   5 | time / epoch 11.87s | loss  1.04\n",
      "| end of epoch   6 | time / epoch 11.54s | loss  0.94\n",
      "| end of epoch   7 | time / epoch 10.90s | loss  0.84\n",
      "| end of epoch   8 | time / epoch 10.96s | loss  0.73\n",
      "| end of epoch   9 | time / epoch 10.92s | loss  0.63\n",
      "| end of epoch  10 | time / epoch 11.24s | loss  0.52\n",
      "-------------------------------------------------------\n",
      "Mean sq singular value of io Jacobian: 18.082\n"
     ]
    },
    {
     "data": {
      "image/png": "[encoded data removed]",
      "text/plain": [
       "<Figure size 432x288 with 1 Axes>"
      ]
     },
     "metadata": {
      "needs_background": "light"
     },
     "output_type": "display_data"
    }
   ],
   "source": [
    "######################################################################\n",
    "# The model is set up with the hyperparameter below.\n",
    "\n",
    "version = 'ReZero'  # Architecture\n",
    "epochs = 10           # Number of epochs\n",
    "depth = 64            # Number of layers\n",
    "width = 256           # Width\n",
    "lr = 0.01             # Learning rate for Adagrad optimizer\n",
    "\n",
    "setup_and_train(epochs, lr, width, depth, version, plt_jacobian = True)"
   ]
  },
  {
   "cell_type": "markdown",
   "metadata": {},
   "source": [
    "### 10000 layer ReZero network\n",
    "\n",
    "We can train a 10000 layer neural network with ReZero. This takes several hours, so consider your actions."
   ]
  },
  {
   "cell_type": "code",
   "execution_count": null,
   "metadata": {},
   "outputs": [],
   "source": [
    "######################################################################\n",
    "# The model is set up with the hyperparameter below.\n",
    "\n",
    "version = 'ReZero'  # Architecture\n",
    "epochs = 25           # Number of epochs\n",
    "depth = 10000            # Number of layers\n",
    "width = 150           # Width\n",
    "lr = 0.003             # Learning rate for Adagrad optimizer\n",
    "\n",
    "setup_and_train(epochs, lr, width, depth, version, plt_jacobian = False)"
   ]
  },
  {
   "cell_type": "code",
   "execution_count": null,
   "metadata": {},
   "outputs": [],
   "source": []
  }
 ],
 "metadata": {
  "kernelspec": {
   "display_name": "Python 3",
   "language": "python",
   "name": "python3"
  },
  "language_info": {
   "codemirror_mode": {
    "name": "ipython",
    "version": 3
   },
   "file_extension": ".py",
   "mimetype": "text/x-python",
   "name": "python",
   "nbconvert_exporter": "python",
   "pygments_lexer": "ipython3",
   "version": "3.7.6"
  }
 },
 "nbformat": 4,
 "nbformat_minor": 4
}
